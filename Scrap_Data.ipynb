{
 "cells": [
  {
   "cell_type": "markdown",
   "metadata": {},
   "source": [
    "Data Scrap"
   ]
  },
  {
   "cell_type": "code",
   "execution_count": 1,
   "metadata": {},
   "outputs": [],
   "source": [
    "import requests\n",
    "from bs4 import BeautifulSoup\n",
    "import csv\n",
    "import time \n",
    "\n",
    "# Base URL of the website\n",
    "base_url = \"https://books.toscrape.com/\""
   ]
  },
  {
   "cell_type": "code",
   "execution_count": 2,
   "metadata": {},
   "outputs": [],
   "source": [
    "# Create a list to store the book data\n",
    "Scrapy_Data = []"
   ]
  },
  {
   "cell_type": "code",
   "execution_count": 3,
   "metadata": {},
   "outputs": [],
   "source": [
    "# Loop through the first 10 pages\n",
    "for page_num in range(1, 11):  # Pages 1 to 10\n",
    "    url = f\"{base_url}catalogue/page-{page_num}.html\"  # Construct the URL for each page\n",
    "    response = requests.get(url)\n",
    "    response.raise_for_status()  # Check if the request was successful"
   ]
  },
  {
   "cell_type": "code",
   "execution_count": 35,
   "metadata": {},
   "outputs": [],
   "source": [
    "# Loop through the first 10 pages\n",
    "for page_num in range(1, 11):  # Pages 1 to 10\n",
    "    url = f\"{base_url}catalogue/page-{page_num}.html\"  # Construct the URL for each page\n",
    "    response = requests.get(url)\n",
    "    response.raise_for_status()  # Check if the request was successful\n",
    "\n",
    "    # Parse the page content\n",
    "    soup = BeautifulSoup(response.text, 'html.parser')\n",
    "\n",
    "    # Find all books on the page\n",
    "    books = soup.find_all('article', class_='product_pod')"
   ]
  },
  {
   "cell_type": "code",
   "execution_count": 36,
   "metadata": {},
   "outputs": [],
   "source": [
    "# Extract book details for each book on the page\n",
    "for book in books:\n",
    "        title = book.h3.a['title']\n",
    "        price = book.find('p', class_='price_color').text\n",
    "        description_link = base_url + book.h3.a['href']\n",
    "        image_tag = book.find('img')\n",
    "        image_link = base_url + image_tag['src'].replace('../', '')  # Fix the relative URL"
   ]
  },
  {
   "cell_type": "code",
   "execution_count": 40,
   "metadata": {},
   "outputs": [],
   "source": [
    "  # Extract category from the breadcrumb on the book's page\n",
    "breadcrumb = book_page_soup.find('ul', class_='breadcrumb')\n",
    "if breadcrumb:\n",
    "        breadcrumb_links = breadcrumb.find_all('a')\n",
    "        if len(breadcrumb_links) >= 3:\n",
    "            category = breadcrumb_links[2].text.strip()  # Category is the third <a> tag\n",
    "        else:\n",
    "            category = 'Unknown'\n",
    "else:\n",
    "            category = 'Unknown'"
   ]
  },
  {
   "cell_type": "code",
   "execution_count": 42,
   "metadata": {},
   "outputs": [],
   "source": [
    " # Add the book details to the book_data list, including the category\n",
    "Scrapy_Data.append({\n",
    "    'Title': title,\n",
    "    'Price': price,\n",
    "    'Description Link': description_link,\n",
    "    'Image Link': image_link,\n",
    "    'Category': category })  # Add the category for the book"
   ]
  },
  {
   "cell_type": "code",
   "execution_count": 44,
   "metadata": {},
   "outputs": [
    {
     "name": "stdout",
     "output_type": "stream",
     "text": [
      "{'Title': 'A Light in the Attic', 'Price': 'Â£51.77', 'Description Link': 'https://books.toscrape.com/a-light-in-the-attic_1000/index.html', 'Image Link': 'https://books.toscrape.com/media/cache/2c/da/2cdad67c44b002e7ead0cc35693c0e8b.jpg', 'Category': 'Unknown'}\n",
      "{'Title': 'Tipping the Velvet', 'Price': 'Â£53.74', 'Description Link': 'https://books.toscrape.com/tipping-the-velvet_999/index.html', 'Image Link': 'https://books.toscrape.com/media/cache/26/0c/260c6ae16bce31c8f8c95daddd9f4a1c.jpg', 'Category': 'Unknown'}\n",
      "{'Title': 'Soumission', 'Price': 'Â£50.10', 'Description Link': 'https://books.toscrape.com/soumission_998/index.html', 'Image Link': 'https://books.toscrape.com/media/cache/3e/ef/3eef99c9d9adef34639f510662022830.jpg', 'Category': 'Unknown'}\n",
      "{'Title': 'Sharp Objects', 'Price': 'Â£47.82', 'Description Link': 'https://books.toscrape.com/sharp-objects_997/index.html', 'Image Link': 'https://books.toscrape.com/media/cache/32/51/3251cf3a3412f53f339e42cac2134093.jpg', 'Category': 'Unknown'}\n",
      "{'Title': 'Sapiens: A Brief History of Humankind', 'Price': 'Â£54.23', 'Description Link': 'https://books.toscrape.com/sapiens-a-brief-history-of-humankind_996/index.html', 'Image Link': 'https://books.toscrape.com/media/cache/be/a5/bea5697f2534a2f86a3ef27b5a8c12a6.jpg', 'Category': 'Unknown'}\n"
     ]
    }
   ],
   "source": [
    "        # Print the first few rows of the book_data list for debugging\n",
    "for book in book_data[:5]:  # Print first 5 books for checking\n",
    "    print(book)"
   ]
  },
  {
   "cell_type": "code",
   "execution_count": 4,
   "metadata": {},
   "outputs": [
    {
     "ename": "KeyboardInterrupt",
     "evalue": "",
     "output_type": "error",
     "traceback": [
      "\u001b[1;31m---------------------------------------------------------------------------\u001b[0m",
      "\u001b[1;31mKeyboardInterrupt\u001b[0m                         Traceback (most recent call last)",
      "Cell \u001b[1;32mIn[4], line 58\u001b[0m\n\u001b[0;32m     49\u001b[0m         Scrapy_Data\u001b[38;5;241m.\u001b[39mappend({\n\u001b[0;32m     50\u001b[0m             \u001b[38;5;124m'\u001b[39m\u001b[38;5;124mTitle\u001b[39m\u001b[38;5;124m'\u001b[39m: title,\n\u001b[0;32m     51\u001b[0m             \u001b[38;5;124m'\u001b[39m\u001b[38;5;124mPrice\u001b[39m\u001b[38;5;124m'\u001b[39m: price,\n\u001b[1;32m   (...)\u001b[0m\n\u001b[0;32m     54\u001b[0m             \u001b[38;5;124m'\u001b[39m\u001b[38;5;124mCategory\u001b[39m\u001b[38;5;124m'\u001b[39m: category  \u001b[38;5;66;03m# Add the category for the book\u001b[39;00m\n\u001b[0;32m     55\u001b[0m         })\n\u001b[0;32m     57\u001b[0m     \u001b[38;5;66;03m# Introduce a delay of 1 second between each page request to avoid overwhelming the server\u001b[39;00m\n\u001b[1;32m---> 58\u001b[0m     \u001b[43mtime\u001b[49m\u001b[38;5;241;43m.\u001b[39;49m\u001b[43msleep\u001b[49m\u001b[43m(\u001b[49m\u001b[38;5;241;43m1\u001b[39;49m\u001b[43m)\u001b[49m  \u001b[38;5;66;03m# You can adjust the time (in seconds) to be longer if needed\u001b[39;00m\n\u001b[0;32m     60\u001b[0m \u001b[38;5;66;03m# Save the book data to a CSV file\u001b[39;00m\n\u001b[0;32m     61\u001b[0m \u001b[38;5;28;01mwith\u001b[39;00m \u001b[38;5;28mopen\u001b[39m(\u001b[38;5;124m\"\u001b[39m\u001b[38;5;124mbooks_data.csv\u001b[39m\u001b[38;5;124m\"\u001b[39m, mode\u001b[38;5;241m=\u001b[39m\u001b[38;5;124m\"\u001b[39m\u001b[38;5;124mw\u001b[39m\u001b[38;5;124m\"\u001b[39m, newline\u001b[38;5;241m=\u001b[39m\u001b[38;5;124m\"\u001b[39m\u001b[38;5;124m\"\u001b[39m, encoding\u001b[38;5;241m=\u001b[39m\u001b[38;5;124m\"\u001b[39m\u001b[38;5;124mutf-8\u001b[39m\u001b[38;5;124m\"\u001b[39m) \u001b[38;5;28;01mas\u001b[39;00m file:\n",
      "\u001b[1;31mKeyboardInterrupt\u001b[0m: "
     ]
    }
   ],
   "source": [
    "import requests\n",
    "from bs4 import BeautifulSoup\n",
    "import csv\n",
    "import time  # Import the time module\n",
    "\n",
    "# Base URL of the website\n",
    "base_url = \"https://books.toscrape.com/\"\n",
    "\n",
    "# Create a list to store the book data (now named Scrapy_Data)\n",
    "Scrapy_Data = []\n",
    "\n",
    "# Loop through the first 10 pages\n",
    "for page_num in range(1, 11):  # Pages 1 to 10\n",
    "    url = f\"{base_url}catalogue/page-{page_num}.html\"  # Construct the URL for each page\n",
    "    response = requests.get(url)\n",
    "    response.raise_for_status()  # Check if the request was successful\n",
    "\n",
    "    # Parse the page content\n",
    "    soup = BeautifulSoup(response.text, 'html.parser')\n",
    "\n",
    "    # Find all books on the page\n",
    "    books = soup.find_all('article', class_='product_pod')\n",
    "\n",
    "    # Extract book details for each book on the page\n",
    "    for book in books:\n",
    "        title = book.h3.a['title']\n",
    "        price = book.find('p', class_='price_color').text\n",
    "        description_link = base_url + book.h3.a['href']\n",
    "        image_tag = book.find('img')\n",
    "        image_link = base_url + image_tag['src'].replace('../', '')  # Fix the relative URL\n",
    "\n",
    "        # Retrieve the category by visiting the book's page (since it's more accurate here)\n",
    "        book_page_url = base_url + book.h3.a['href']\n",
    "        book_page_response = requests.get(book_page_url)\n",
    "        book_page_soup = BeautifulSoup(book_page_response.text, 'html.parser')\n",
    "\n",
    "        # Extract category from the breadcrumb on the book's page\n",
    "        breadcrumb = book_page_soup.find('ul', class_='breadcrumb')\n",
    "        if breadcrumb:\n",
    "            breadcrumb_links = breadcrumb.find_all('a')\n",
    "            if len(breadcrumb_links) >= 3:\n",
    "                category = breadcrumb_links[2].text.strip()  # Category is the third <a> tag\n",
    "            else:\n",
    "                category = 'Unknown'\n",
    "        else:\n",
    "            category = 'Unknown'\n",
    "\n",
    "        # Add the book details to the Scrapy_Data list, including the category\n",
    "        Scrapy_Data.append({\n",
    "            'Title': title,\n",
    "            'Price': price,\n",
    "            'Description Link': description_link,\n",
    "            'Image Link': image_link,\n",
    "            'Category': category  # Add the category for the book\n",
    "        })\n",
    "\n",
    "    # Introduce a delay of 1 second between each page request to avoid overwhelming the server\n",
    "    time.sleep(1)  # You can adjust the time (in seconds) to be longer if needed\n",
    "\n",
    "# Save the book data to a CSV file\n",
    "with open(\"books_data.csv\", mode=\"w\", newline=\"\", encoding=\"utf-8\") as file:\n",
    "    writer = csv.DictWriter(file, fieldnames=['Title', 'Price', 'Description Link', 'Image Link', 'Category'])\n",
    "    writer.writeheader()\n",
    "    writer.writerows(Scrapy_Data)\n",
    "\n",
    "print(\"Data extraction complete. The data has been saved to 'books_data.csv'.\")\n"
   ]
  },
  {
   "cell_type": "markdown",
   "metadata": {},
   "source": [
    "Data Processing"
   ]
  },
  {
   "cell_type": "code",
   "execution_count": 30,
   "metadata": {},
   "outputs": [
    {
     "name": "stdout",
     "output_type": "stream",
     "text": [
      "+----+------------------------------------------------------------------------------------------------+---------+-----------------------------------------------------------------------------------------------------------------------------------------+-----------------------------------------------------------------------------------+---------+\n",
      "|    |                                                                                                |         | k                                                                                                                                       | e                                                                                 | y       |\n",
      "+====+================================================================================================+=========+=========================================================================================================================================+===================================================================================+=========+\n",
      "|  0 | A Light in the Attic                                                                           | Â£51.77 | https://books.toscrape.com/a-light-in-the-attic_1000/index.html                                                                         | https://books.toscrape.com/media/cache/2c/da/2cdad67c44b002e7ead0cc35693c0e8b.jpg | Unknown |\n",
      "+----+------------------------------------------------------------------------------------------------+---------+-----------------------------------------------------------------------------------------------------------------------------------------+-----------------------------------------------------------------------------------+---------+\n",
      "|  1 | Tipping the Velvet                                                                             | Â£53.74 | https://books.toscrape.com/tipping-the-velvet_999/index.html                                                                            | https://books.toscrape.com/media/cache/26/0c/260c6ae16bce31c8f8c95daddd9f4a1c.jpg | Unknown |\n",
      "+----+------------------------------------------------------------------------------------------------+---------+-----------------------------------------------------------------------------------------------------------------------------------------+-----------------------------------------------------------------------------------+---------+\n",
      "|  2 | Soumission                                                                                     | Â£50.10 | https://books.toscrape.com/soumission_998/index.html                                                                                    | https://books.toscrape.com/media/cache/3e/ef/3eef99c9d9adef34639f510662022830.jpg | Unknown |\n",
      "+----+------------------------------------------------------------------------------------------------+---------+-----------------------------------------------------------------------------------------------------------------------------------------+-----------------------------------------------------------------------------------+---------+\n",
      "|  3 | Sharp Objects                                                                                  | Â£47.82 | https://books.toscrape.com/sharp-objects_997/index.html                                                                                 | https://books.toscrape.com/media/cache/32/51/3251cf3a3412f53f339e42cac2134093.jpg | Unknown |\n",
      "+----+------------------------------------------------------------------------------------------------+---------+-----------------------------------------------------------------------------------------------------------------------------------------+-----------------------------------------------------------------------------------+---------+\n",
      "|  4 | Sapiens: A Brief History of Humankind                                                          | Â£54.23 | https://books.toscrape.com/sapiens-a-brief-history-of-humankind_996/index.html                                                          | https://books.toscrape.com/media/cache/be/a5/bea5697f2534a2f86a3ef27b5a8c12a6.jpg | Unknown |\n",
      "+----+------------------------------------------------------------------------------------------------+---------+-----------------------------------------------------------------------------------------------------------------------------------------+-----------------------------------------------------------------------------------+---------+\n",
      "|  5 | The Requiem Red                                                                                | Â£22.65 | https://books.toscrape.com/the-requiem-red_995/index.html                                                                               | https://books.toscrape.com/media/cache/68/33/68339b4c9bc034267e1da611ab3b34f8.jpg | Unknown |\n",
      "+----+------------------------------------------------------------------------------------------------+---------+-----------------------------------------------------------------------------------------------------------------------------------------+-----------------------------------------------------------------------------------+---------+\n",
      "|  6 | The Dirty Little Secrets of Getting Your Dream Job                                             | Â£33.34 | https://books.toscrape.com/the-dirty-little-secrets-of-getting-your-dream-job_994/index.html                                            | https://books.toscrape.com/media/cache/92/27/92274a95b7c251fea59a2b8a78275ab4.jpg | Unknown |\n",
      "+----+------------------------------------------------------------------------------------------------+---------+-----------------------------------------------------------------------------------------------------------------------------------------+-----------------------------------------------------------------------------------+---------+\n",
      "|  7 | The Coming Woman: A Novel Based on the Life of the Infamous Feminist, Victoria Woodhull        | Â£17.93 | https://books.toscrape.com/the-coming-woman-a-novel-based-on-the-life-of-the-infamous-feminist-victoria-woodhull_993/index.html         | https://books.toscrape.com/media/cache/3d/54/3d54940e57e662c4dd1f3ff00c78cc64.jpg | Unknown |\n",
      "+----+------------------------------------------------------------------------------------------------+---------+-----------------------------------------------------------------------------------------------------------------------------------------+-----------------------------------------------------------------------------------+---------+\n",
      "|  8 | The Boys in the Boat: Nine Americans and Their Epic Quest for Gold at the 1936 Berlin Olympics | Â£22.60 | https://books.toscrape.com/the-boys-in-the-boat-nine-americans-and-their-epic-quest-for-gold-at-the-1936-berlin-olympics_992/index.html | https://books.toscrape.com/media/cache/66/88/66883b91f6804b2323c8369331cb7dd1.jpg | Unknown |\n",
      "+----+------------------------------------------------------------------------------------------------+---------+-----------------------------------------------------------------------------------------------------------------------------------------+-----------------------------------------------------------------------------------+---------+\n",
      "|  9 | The Black Maria                                                                                | Â£52.15 | https://books.toscrape.com/the-black-maria_991/index.html                                                                               | https://books.toscrape.com/media/cache/58/46/5846057e28022268153beff6d352b06c.jpg | Unknown |\n",
      "+----+------------------------------------------------------------------------------------------------+---------+-----------------------------------------------------------------------------------------------------------------------------------------+-----------------------------------------------------------------------------------+---------+\n",
      "| 10 | Starving Hearts (Triangular Trade Trilogy, #1)                                                 | Â£13.99 | https://books.toscrape.com/starving-hearts-triangular-trade-trilogy-1_990/index.html                                                    | https://books.toscrape.com/media/cache/be/f4/bef44da28c98f905a3ebec0b87be8530.jpg | Unknown |\n",
      "+----+------------------------------------------------------------------------------------------------+---------+-----------------------------------------------------------------------------------------------------------------------------------------+-----------------------------------------------------------------------------------+---------+\n",
      "| 11 | Shakespeare's Sonnets                                                                          | Â£20.66 | https://books.toscrape.com/shakespeares-sonnets_989/index.html                                                                          | https://books.toscrape.com/media/cache/10/48/1048f63d3b5061cd2f424d20b3f9b666.jpg | Unknown |\n",
      "+----+------------------------------------------------------------------------------------------------+---------+-----------------------------------------------------------------------------------------------------------------------------------------+-----------------------------------------------------------------------------------+---------+\n",
      "| 12 | Set Me Free                                                                                    | Â£17.46 | https://books.toscrape.com/set-me-free_988/index.html                                                                                   | https://books.toscrape.com/media/cache/5b/88/5b88c52633f53cacf162c15f4f823153.jpg | Unknown |\n",
      "+----+------------------------------------------------------------------------------------------------+---------+-----------------------------------------------------------------------------------------------------------------------------------------+-----------------------------------------------------------------------------------+---------+\n",
      "| 13 | Scott Pilgrim's Precious Little Life (Scott Pilgrim #1)                                        | Â£52.29 | https://books.toscrape.com/scott-pilgrims-precious-little-life-scott-pilgrim-1_987/index.html                                           | https://books.toscrape.com/media/cache/94/b1/94b1b8b244bce9677c2f29ccc890d4d2.jpg | Unknown |\n",
      "+----+------------------------------------------------------------------------------------------------+---------+-----------------------------------------------------------------------------------------------------------------------------------------+-----------------------------------------------------------------------------------+---------+\n",
      "| 14 | Rip it Up and Start Again                                                                      | Â£35.02 | https://books.toscrape.com/rip-it-up-and-start-again_986/index.html                                                                     | https://books.toscrape.com/media/cache/81/c4/81c4a973364e17d01f217e1188253d5e.jpg | Unknown |\n",
      "+----+------------------------------------------------------------------------------------------------+---------+-----------------------------------------------------------------------------------------------------------------------------------------+-----------------------------------------------------------------------------------+---------+\n",
      "| 15 | Our Band Could Be Your Life: Scenes from the American Indie Underground, 1981-1991             | Â£57.25 | https://books.toscrape.com/our-band-could-be-your-life-scenes-from-the-american-indie-underground-1981-1991_985/index.html              | https://books.toscrape.com/media/cache/54/60/54607fe8945897cdcced0044103b10b6.jpg | Unknown |\n",
      "+----+------------------------------------------------------------------------------------------------+---------+-----------------------------------------------------------------------------------------------------------------------------------------+-----------------------------------------------------------------------------------+---------+\n",
      "| 16 | Olio                                                                                           | Â£23.88 | https://books.toscrape.com/olio_984/index.html                                                                                          | https://books.toscrape.com/media/cache/55/33/553310a7162dfbc2c6d19a84da0df9e1.jpg | Unknown |\n",
      "+----+------------------------------------------------------------------------------------------------+---------+-----------------------------------------------------------------------------------------------------------------------------------------+-----------------------------------------------------------------------------------+---------+\n",
      "| 17 | Mesaerion: The Best Science Fiction Stories 1800-1849                                          | Â£37.59 | https://books.toscrape.com/mesaerion-the-best-science-fiction-stories-1800-1849_983/index.html                                          | https://books.toscrape.com/media/cache/09/a3/09a3aef48557576e1a85ba7efea8ecb7.jpg | Unknown |\n",
      "+----+------------------------------------------------------------------------------------------------+---------+-----------------------------------------------------------------------------------------------------------------------------------------+-----------------------------------------------------------------------------------+---------+\n",
      "| 18 | Libertarianism for Beginners                                                                   | Â£51.33 | https://books.toscrape.com/libertarianism-for-beginners_982/index.html                                                                  | https://books.toscrape.com/media/cache/0b/bc/0bbcd0a6f4bcd81ccb1049a52736406e.jpg | Unknown |\n",
      "+----+------------------------------------------------------------------------------------------------+---------+-----------------------------------------------------------------------------------------------------------------------------------------+-----------------------------------------------------------------------------------+---------+\n",
      "| 19 | It's Only the Himalayas                                                                        | Â£45.17 | https://books.toscrape.com/its-only-the-himalayas_981/index.html                                                                        | https://books.toscrape.com/media/cache/27/a5/27a53d0bb95bdd88288eaf66c9230d7e.jpg | Unknown |\n",
      "+----+------------------------------------------------------------------------------------------------+---------+-----------------------------------------------------------------------------------------------------------------------------------------+-----------------------------------------------------------------------------------+---------+\n"
     ]
    }
   ],
   "source": [
    "import pandas as pd\n",
    "import numpy as np\n",
    "from tabulate import tabulate\n",
    "\n",
    "# Load the CSV file using pandas\n",
    "file_path = r\"G:\\Lab\\Week_06\\Scrap_Data.csv\"  # Replace 'your_file_name.csv' with your actual file name\n",
    "\n",
    "# Read the CSV into a pandas DataFrame\n",
    "Scrap_Data = pd.read_csv(file_path)\n",
    "\n",
    "# Display the first few rows of the DataFrame\n",
    "print(tabulate(Scrap_Data.head(20), headers=\"key\", tablefmt=\"grid\" ))\n"
   ]
  }
 ],
 "metadata": {
  "kernelspec": {
   "display_name": "Python 3",
   "language": "python",
   "name": "python3"
  },
  "language_info": {
   "codemirror_mode": {
    "name": "ipython",
    "version": 3
   },
   "file_extension": ".py",
   "mimetype": "text/x-python",
   "name": "python",
   "nbconvert_exporter": "python",
   "pygments_lexer": "ipython3",
   "version": "3.13.0"
  }
 },
 "nbformat": 4,
 "nbformat_minor": 2
}
